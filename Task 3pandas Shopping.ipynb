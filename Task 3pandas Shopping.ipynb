{
 "cells": [
  {
   "cell_type": "code",
   "execution_count": 1,
   "id": "d209df15-03e1-40fc-a6e3-22a9f35d9f0a",
   "metadata": {},
   "outputs": [
    {
     "data": {
      "text/html": [
       "<div>\n",
       "<style scoped>\n",
       "    .dataframe tbody tr th:only-of-type {\n",
       "        vertical-align: middle;\n",
       "    }\n",
       "\n",
       "    .dataframe tbody tr th {\n",
       "        vertical-align: top;\n",
       "    }\n",
       "\n",
       "    .dataframe thead th {\n",
       "        text-align: right;\n",
       "    }\n",
       "</style>\n",
       "<table border=\"1\" class=\"dataframe\">\n",
       "  <thead>\n",
       "    <tr style=\"text-align: right;\">\n",
       "      <th></th>\n",
       "      <th>Order ID</th>\n",
       "      <th>Amount</th>\n",
       "      <th>Profit</th>\n",
       "      <th>Quantity</th>\n",
       "      <th>Category</th>\n",
       "      <th>Sub-Category</th>\n",
       "      <th>PaymentMode</th>\n",
       "      <th>CustomerName</th>\n",
       "      <th>State</th>\n",
       "      <th>City</th>\n",
       "    </tr>\n",
       "  </thead>\n",
       "  <tbody>\n",
       "    <tr>\n",
       "      <th>0</th>\n",
       "      <td>B-25681</td>\n",
       "      <td>1096</td>\n",
       "      <td>658</td>\n",
       "      <td>7</td>\n",
       "      <td>Electronics</td>\n",
       "      <td>Electronic Games</td>\n",
       "      <td>COD</td>\n",
       "      <td>Harivansh</td>\n",
       "      <td>Uttar Pradesh</td>\n",
       "      <td>Mathura</td>\n",
       "    </tr>\n",
       "    <tr>\n",
       "      <th>1</th>\n",
       "      <td>B-26055</td>\n",
       "      <td>5729</td>\n",
       "      <td>64</td>\n",
       "      <td>8</td>\n",
       "      <td>Furniture</td>\n",
       "      <td>Chairs</td>\n",
       "      <td>EMI</td>\n",
       "      <td>Madhav</td>\n",
       "      <td>Delhi</td>\n",
       "      <td>Delhi</td>\n",
       "    </tr>\n",
       "    <tr>\n",
       "      <th>2</th>\n",
       "      <td>B-25955</td>\n",
       "      <td>2927</td>\n",
       "      <td>146</td>\n",
       "      <td>9</td>\n",
       "      <td>Furniture</td>\n",
       "      <td>Bookcases</td>\n",
       "      <td>EMI</td>\n",
       "      <td>Madan Mohan</td>\n",
       "      <td>Uttar Pradesh</td>\n",
       "      <td>Mathura</td>\n",
       "    </tr>\n",
       "    <tr>\n",
       "      <th>3</th>\n",
       "      <td>B-26093</td>\n",
       "      <td>2847</td>\n",
       "      <td>712</td>\n",
       "      <td>8</td>\n",
       "      <td>Electronics</td>\n",
       "      <td>Printers</td>\n",
       "      <td>Credit Card</td>\n",
       "      <td>Gopal</td>\n",
       "      <td>Maharashtra</td>\n",
       "      <td>Mumbai</td>\n",
       "    </tr>\n",
       "    <tr>\n",
       "      <th>4</th>\n",
       "      <td>B-25602</td>\n",
       "      <td>2617</td>\n",
       "      <td>1151</td>\n",
       "      <td>4</td>\n",
       "      <td>Electronics</td>\n",
       "      <td>Phones</td>\n",
       "      <td>Credit Card</td>\n",
       "      <td>Vishakha</td>\n",
       "      <td>Madhya Pradesh</td>\n",
       "      <td>Indore</td>\n",
       "    </tr>\n",
       "    <tr>\n",
       "      <th>...</th>\n",
       "      <td>...</td>\n",
       "      <td>...</td>\n",
       "      <td>...</td>\n",
       "      <td>...</td>\n",
       "      <td>...</td>\n",
       "      <td>...</td>\n",
       "      <td>...</td>\n",
       "      <td>...</td>\n",
       "      <td>...</td>\n",
       "      <td>...</td>\n",
       "    </tr>\n",
       "    <tr>\n",
       "      <th>495</th>\n",
       "      <td>B-25754</td>\n",
       "      <td>72</td>\n",
       "      <td>-46</td>\n",
       "      <td>7</td>\n",
       "      <td>Clothing</td>\n",
       "      <td>Kurti</td>\n",
       "      <td>Debit Card</td>\n",
       "      <td>Ashwin</td>\n",
       "      <td>Goa</td>\n",
       "      <td>Goa</td>\n",
       "    </tr>\n",
       "    <tr>\n",
       "      <th>496</th>\n",
       "      <td>B-25724</td>\n",
       "      <td>168</td>\n",
       "      <td>-51</td>\n",
       "      <td>2</td>\n",
       "      <td>Furniture</td>\n",
       "      <td>Bookcases</td>\n",
       "      <td>COD</td>\n",
       "      <td>Bhavna</td>\n",
       "      <td>Sikkim</td>\n",
       "      <td>Gangtok</td>\n",
       "    </tr>\n",
       "    <tr>\n",
       "      <th>497</th>\n",
       "      <td>B-25757</td>\n",
       "      <td>165</td>\n",
       "      <td>30</td>\n",
       "      <td>3</td>\n",
       "      <td>Clothing</td>\n",
       "      <td>Stole</td>\n",
       "      <td>COD</td>\n",
       "      <td>Shivani</td>\n",
       "      <td>Maharashtra</td>\n",
       "      <td>Mumbai</td>\n",
       "    </tr>\n",
       "    <tr>\n",
       "      <th>498</th>\n",
       "      <td>B-25767</td>\n",
       "      <td>74</td>\n",
       "      <td>-59</td>\n",
       "      <td>2</td>\n",
       "      <td>Electronics</td>\n",
       "      <td>Accessories</td>\n",
       "      <td>Debit Card</td>\n",
       "      <td>Shubham</td>\n",
       "      <td>Himachal Pradesh</td>\n",
       "      <td>Simla</td>\n",
       "    </tr>\n",
       "    <tr>\n",
       "      <th>499</th>\n",
       "      <td>B-25886</td>\n",
       "      <td>89</td>\n",
       "      <td>17</td>\n",
       "      <td>2</td>\n",
       "      <td>Clothing</td>\n",
       "      <td>Stole</td>\n",
       "      <td>UPI</td>\n",
       "      <td>Monisha</td>\n",
       "      <td>Rajasthan</td>\n",
       "      <td>Jaipur</td>\n",
       "    </tr>\n",
       "  </tbody>\n",
       "</table>\n",
       "<p>500 rows × 10 columns</p>\n",
       "</div>"
      ],
      "text/plain": [
       "    Order ID  Amount  Profit  Quantity     Category      Sub-Category  \\\n",
       "0    B-25681    1096     658         7  Electronics  Electronic Games   \n",
       "1    B-26055    5729      64         8    Furniture            Chairs   \n",
       "2    B-25955    2927     146         9    Furniture         Bookcases   \n",
       "3    B-26093    2847     712         8  Electronics          Printers   \n",
       "4    B-25602    2617    1151         4  Electronics            Phones   \n",
       "..       ...     ...     ...       ...          ...               ...   \n",
       "495  B-25754      72     -46         7     Clothing             Kurti   \n",
       "496  B-25724     168     -51         2    Furniture         Bookcases   \n",
       "497  B-25757     165      30         3     Clothing             Stole   \n",
       "498  B-25767      74     -59         2  Electronics       Accessories   \n",
       "499  B-25886      89      17         2     Clothing             Stole   \n",
       "\n",
       "     PaymentMode CustomerName             State     City  \n",
       "0            COD    Harivansh     Uttar Pradesh  Mathura  \n",
       "1            EMI       Madhav             Delhi    Delhi  \n",
       "2            EMI  Madan Mohan     Uttar Pradesh  Mathura  \n",
       "3    Credit Card        Gopal       Maharashtra   Mumbai  \n",
       "4    Credit Card     Vishakha    Madhya Pradesh   Indore  \n",
       "..           ...          ...               ...      ...  \n",
       "495   Debit Card       Ashwin               Goa      Goa  \n",
       "496          COD       Bhavna            Sikkim  Gangtok  \n",
       "497          COD      Shivani       Maharashtra   Mumbai  \n",
       "498   Debit Card      Shubham  Himachal Pradesh    Simla  \n",
       "499          UPI      Monisha         Rajasthan   Jaipur  \n",
       "\n",
       "[500 rows x 10 columns]"
      ]
     },
     "execution_count": 1,
     "metadata": {},
     "output_type": "execute_result"
    }
   ],
   "source": [
    "import pandas as pd\n",
    "a=pd.read_excel(\"shopping.xlsx\")\n",
    "\n",
    "df=pd.DataFrame(a)\n",
    "df"
   ]
  },
  {
   "cell_type": "code",
   "execution_count": 6,
   "id": "92db7959-c3e8-42c9-ba00-7e8042b4297b",
   "metadata": {},
   "outputs": [
    {
     "data": {
      "text/plain": [
       "<function matplotlib.pyplot.show(close=None, block=None)>"
      ]
     },
     "execution_count": 6,
     "metadata": {},
     "output_type": "execute_result"
    },
    {
     "data": {
      "image/png": "[encoded data removed]",
      "text/plain": [
       "<Figure size 640x480 with 1 Axes>"
      ]
     },
     "metadata": {},
     "output_type": "display_data"
    }
   ],
   "source": [
    "#1.Create a pie diagram which show percentage of payment mode\n",
    "import matplotlib.pyplot as plt\n",
    "b=a[\"PaymentMode\"].value_counts()\n",
    "total=b.sum()\n",
    "per=b/total*100\n",
    "plt.pie(per,labels=per.index,autopct=\"%1.1f%%\")\n",
    "plt.show\n"
   ]
  },
  {
   "cell_type": "code",
   "execution_count": 10,
   "id": "b18b36f7-3140-48b3-8dbe-c1d640526034",
   "metadata": {},
   "outputs": [
    {
     "name": "stdout",
     "output_type": "stream",
     "text": [
      "CustomerName: ['Gopal', 'Shiva', 'Sarita', 'Vrinda', 'Uudhav', 'Bhishm', 'Yogesh', 'Rohan', 'Ishpreet', 'Sujay', 'Sheetal', 'Surabhi', 'Parth', 'Priyanka', 'Savi', 'Arti', 'Oshin', 'Shruti', 'Bhishm', 'Parin', 'Ameesha', 'Ayush', 'Shaily', 'Chirag', 'Hrisheekesh', 'Parth', 'Sanjova', 'Praneet', 'Rhea', 'Mrinal', 'Mohan', 'Akancha', 'Abhijeet', 'Nishi', 'Tanushree', 'Yash', 'Sukrith', 'Megha', 'Mayank', 'Tejeswini', 'Nishant', 'Harshita', 'Kiran', 'Shreya', 'Bhaggyasree', 'Divyansha', 'Anjali', 'Sabah', 'Shubham', 'Shikhar', 'Sanjna', 'Sweta', 'Chirag', 'Surbhi', 'Bhishm', 'Aayushi', 'Sweta', 'Sarita', 'Aman', 'Palak', 'Mrunal', 'Sarita', 'Syed', 'Mukund', 'Shantanu', 'Samiksha', 'Shubhi', 'Riya', 'Utsav', 'Ishit', 'Ankita', 'Ankit', 'Aromal', 'Sanjay', 'Shivam', 'Priyanka', 'Mayank', 'Avni', 'Wale', 'Abhishek', 'Sidharth', 'Rane', 'Saurabh', 'Pratiksha', 'Mousam', 'Dhirajendu', 'Pearl', 'Nishi', 'Akshat', 'Sumeet', 'Ashvini', 'Pearl', 'Mahima', 'Shivani']\n"
     ]
    }
   ],
   "source": [
    "#2. give me the customer names who do the shopping their state from MH\n",
    "\n",
    "n=[]    #variable to save laptop\n",
    "for i in range(len(df)):\n",
    "    if df[\"State\"][i] == \"Maharashtra\":\n",
    "        n.append(df[\"CustomerName\"][i])\n",
    "print(\"CustomerName:\",n)\n"
   ]
  },
  {
   "cell_type": "code",
   "execution_count": 11,
   "id": "8790e695-88d6-48ff-9aa8-3a5e55885659",
   "metadata": {},
   "outputs": [
    {
     "name": "stdout",
     "output_type": "stream",
     "text": [
      "Customer with highest shopping amount: Madhav\n"
     ]
    }
   ],
   "source": [
    "#3.give me the customer name who do high shopping\n",
    "\n",
    "\n",
    "total_shopping = df.groupby('CustomerName')['Amount'].sum()\n",
    "\n",
    "# Find the customer with the highest total shopping amount\n",
    "customer_with_highest_shopping = total_shopping.idxmax()\n",
    "\n",
    "print(\"Customer with highest shopping amount:\", customer_with_highest_shopping)\n"
   ]
  },
  {
   "cell_type": "code",
   "execution_count": 16,
   "id": "984da5d6-2a91-44df-848a-3f4f2970bdc7",
   "metadata": {},
   "outputs": [
    {
     "name": "stdout",
     "output_type": "stream",
     "text": [
      "    Order ID  Amount  Profit  Quantity     Category      Sub-Category  \\\n",
      "19   B-25735       7      -1         2     Clothing             Skirt   \n",
      "20   B-25910    1622    -624         5    Furniture            Tables   \n",
      "48   B-25613    1603       0         9     Clothing             Saree   \n",
      "54   B-25801      15      -2         1     Clothing           T-shirt   \n",
      "55   B-26085    1487     624         3     Clothing          Trousers   \n",
      "..       ...     ...     ...       ...          ...               ...   \n",
      "473  B-25875     248       8         2     Clothing             Saree   \n",
      "477  B-25908     179     -25         5     Clothing             Kurti   \n",
      "490  B-25898     171       2         2  Electronics  Electronic Games   \n",
      "491  B-25785     268     -25         3     Clothing             Saree   \n",
      "495  B-25754      72     -46         7     Clothing             Kurti   \n",
      "\n",
      "     PaymentMode CustomerName             State       City  \n",
      "19           UPI         Amol             Bihar      Patna  \n",
      "20   Credit Card       Aastha  Himachal Pradesh      Simla  \n",
      "48   Credit Card      Aarushi        Tamil Nadu    Chennai  \n",
      "54    Debit Card     Abhijeet    Madhya Pradesh     Bhopal  \n",
      "55   Credit Card      Anudeep    Madhya Pradesh     Indore  \n",
      "..           ...          ...               ...        ...  \n",
      "473  Credit Card     Akanksha    Andhra Pradesh  Hyderabad  \n",
      "477          COD      Ashvini       Maharashtra     Mumbai  \n",
      "490          COD      Anubhaw         Karnataka  Bangalore  \n",
      "491          COD       Ananya    Andhra Pradesh  Hyderabad  \n",
      "495   Debit Card       Ashwin               Goa        Goa  \n",
      "\n",
      "[92 rows x 10 columns]\n"
     ]
    }
   ],
   "source": [
    "#4.give me the customer names starts with “A”\n",
    "\n",
    "filtered_customers = df[df['CustomerName'].str.startswith('A')]\n",
    "\n",
    "print(filtered_customers)"
   ]
  },
  {
   "cell_type": "code",
   "execution_count": 19,
   "id": "0a709f5d-aa6e-45dc-98db-ed7ab7b9bcf2",
   "metadata": {},
   "outputs": [
    {
     "data": {
      "image/png": "[encoded data removed]",
      "text/plain": [
       "<Figure size 1000x600 with 1 Axes>"
      ]
     },
     "metadata": {},
     "output_type": "display_data"
    }
   ],
   "source": [
    "#5.according to the category and sub category , which category customer like to shop most give me graphical representation\n",
    "\n",
    "\n",
    "# Group by Category and Subcategory, and count the number of occurrences\n",
    "grouped = df.groupby(['Category', 'Sub-Category']).size().reset_index(name='Count')\n",
    "\n",
    "# Find the most popular subcategory in each category\n",
    "popular_subcategories = grouped.loc[grouped.groupby('Category')['Count'].idxmax()]\n",
    "\n",
    "# Plot the graph\n",
    "plt.figure(figsize=(10, 6))\n",
    "plt.bar(popular_subcategories['Category'], popular_subcategories['Count'], color='skyblue')\n",
    "plt.xlabel('Category')\n",
    "plt.ylabel('Number of Customers')\n",
    "plt.title('Most Popular Subcategory in Each Category')\n",
    "plt.show()"
   ]
  },
  {
   "cell_type": "code",
   "execution_count": 22,
   "id": "21ff3c2c-b2a0-44e3-8c9f-10d5d9102bd6",
   "metadata": {},
   "outputs": [
    {
     "name": "stdout",
     "output_type": "stream",
     "text": [
      "Enter a category:  Clothing\n"
     ]
    },
    {
     "name": "stdout",
     "output_type": "stream",
     "text": [
      "Subcategories for category Clothing :\n",
      "Trousers\n",
      "Saree\n",
      "Hankerchief\n",
      "Kurti\n",
      "Skirt\n",
      "Stole\n",
      "Leggings\n",
      "T-shirt\n",
      "Shirt\n"
     ]
    }
   ],
   "source": [
    "#6.take input from user as category then as per the it gives sub categories\n",
    "\n",
    "# Take input from the user for the category\n",
    "category = input(\"Enter a category: \")\n",
    "\n",
    "# Filter the DataFrame for the selected category and display the subcategories\n",
    "subcategories = df[df['Category'] == category]['Sub-Category'].unique()\n",
    "if len(subcategories) > 0:\n",
    "    print(\"Subcategories for category\", category, \":\")\n",
    "    for subcategory in subcategories:\n",
    "        print(subcategory)\n",
    "else:\n",
    "    print(\"No subcategories found for category\", category)"
   ]
  },
  {
   "cell_type": "code",
   "execution_count": 23,
   "id": "d88b0e5b-b862-4cae-b054-ad55957e6eff",
   "metadata": {},
   "outputs": [
    {
     "name": "stdout",
     "output_type": "stream",
     "text": [
      "Customers with negative profit:\n",
      "    Order ID  Amount  Profit  Quantity     Category Sub-Category PaymentMode  \\\n",
      "6    B-25696     275    -275         4     Clothing        Saree         COD   \n",
      "7    B-25687     387    -213         5     Clothing        Saree         UPI   \n",
      "8    B-25643      50     -44         2     Clothing  Hankerchief         UPI   \n",
      "9    B-25851     135     -54         5     Clothing        Kurti         COD   \n",
      "10   B-25703     231    -190         9     Clothing  Hankerchief         COD   \n",
      "..       ...     ...     ...       ...          ...          ...         ...   \n",
      "488  B-25652     174     -70         3  Electronics  Accessories         COD   \n",
      "491  B-25785     268     -25         3     Clothing        Saree         COD   \n",
      "495  B-25754      72     -46         7     Clothing        Kurti  Debit Card   \n",
      "496  B-25724     168     -51         2    Furniture    Bookcases         COD   \n",
      "498  B-25767      74     -59         2  Electronics  Accessories  Debit Card   \n",
      "\n",
      "    CustomerName             State       City  \n",
      "6          Shiva       Maharashtra       Pune  \n",
      "7         Sarita       Maharashtra       Pune  \n",
      "8         Shishu    Andhra Pradesh  Hyderabad  \n",
      "9         Vrinda       Maharashtra       Pune  \n",
      "10        Uudhav       Maharashtra     Mumbai  \n",
      "..           ...               ...        ...  \n",
      "488       Mahima       Maharashtra       Pune  \n",
      "491       Ananya    Andhra Pradesh  Hyderabad  \n",
      "495       Ashwin               Goa        Goa  \n",
      "496       Bhavna            Sikkim    Gangtok  \n",
      "498      Shubham  Himachal Pradesh      Simla  \n",
      "\n",
      "[183 rows x 10 columns]\n"
     ]
    }
   ],
   "source": [
    "#7.which customer has profit in negative ( - )\n",
    "\n",
    "\n",
    "# Filter the DataFrame for customers with negative profit\n",
    "negative_profit_customers = df[df['Profit'] < 0]\n",
    "\n",
    "print(\"Customers with negative profit:\")\n",
    "print(negative_profit_customers)"
   ]
  },
  {
   "cell_type": "code",
   "execution_count": null,
   "id": "6e0fed9b-9b16-4732-a2dd-cfc8e20331ce",
   "metadata": {},
   "outputs": [],
   "source": []
  }
 ],
 "metadata": {
  "kernelspec": {
   "display_name": "Python 3 (ipykernel)",
   "language": "python",
   "name": "python3"
  },
  "language_info": {
   "codemirror_mode": {
    "name": "ipython",
    "version": 3
   },
   "file_extension": ".py",
   "mimetype": "text/x-python",
   "name": "python",
   "nbconvert_exporter": "python",
   "pygments_lexer": "ipython3",
   "version": "3.10.11"
  }
 },
 "nbformat": 4,
 "nbformat_minor": 5
}
